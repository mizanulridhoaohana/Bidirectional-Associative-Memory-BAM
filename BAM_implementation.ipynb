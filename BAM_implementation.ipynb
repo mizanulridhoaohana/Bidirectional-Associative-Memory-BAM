{
 "cells": [
  {
   "cell_type": "markdown",
   "metadata": {},
   "source": [
    "# **Bidirectional Associative Memory (BAM)**"
   ]
  },
  {
   "cell_type": "markdown",
   "metadata": {},
   "source": [
    "---\n",
    "### Problem Statement\n",
    "\n",
    "Build a simple model BAM to predict pattern mapping of the following character:\n",
    "\n",
    "<img src=\"./problem_pattern.png\" alt=\"image\" width=\"500\" height=\"150\">\n",
    "\n",
    "---\n",
    "\n",
    "### BAM Algorithm\n",
    "\n",
    "ilustration:\n",
    "\n",
    "<img src=\"./bidirectional_concept.png\" alt=\"image\" width=\"500\" height=\"300\">\n",
    "\n",
    "---\n"
   ]
  },
  {
   "cell_type": "markdown",
   "metadata": {},
   "source": [
    "### **Code Implementation**"
   ]
  },
  {
   "cell_type": "code",
   "execution_count": 1,
   "metadata": {},
   "outputs": [],
   "source": [
    "import numpy as np\n",
    "import matplotlib.pyplot as plt"
   ]
  },
  {
   "cell_type": "markdown",
   "metadata": {},
   "source": [
    "Convert input and target images to numpy arrays"
   ]
  },
  {
   "cell_type": "code",
   "execution_count": 2,
   "metadata": {},
   "outputs": [
    {
     "name": "stdout",
     "output_type": "stream",
     "text": [
      "X =  [[-1 -1  1  1  1 -1 -1 -1  1 -1 -1 -1  1 -1  1 -1 -1 -1 -1 -1  1  1 -1 -1\n",
      "  -1 -1 -1  1  1 -1 -1 -1 -1 -1  1  1  1  1  1  1  1  1  1 -1 -1 -1 -1 -1\n",
      "   1  1 -1 -1 -1 -1 -1  1  1 -1 -1 -1 -1 -1  1]\n",
      " [ 1  1  1  1  1 -1 -1  1 -1 -1 -1 -1  1 -1  1 -1 -1 -1 -1 -1  1  1 -1 -1\n",
      "  -1 -1  1 -1  1  1  1  1  1 -1 -1  1 -1 -1 -1 -1  1 -1  1 -1 -1 -1 -1 -1\n",
      "   1  1 -1 -1 -1 -1  1 -1  1  1  1  1  1 -1 -1]\n",
      " [ 1 -1 -1 -1 -1 -1  1  1 -1 -1 -1 -1 -1  1  1 -1 -1 -1 -1 -1  1  1 -1 -1\n",
      "  -1 -1 -1  1  1  1  1  1  1  1  1  1 -1 -1 -1 -1 -1  1  1 -1 -1 -1 -1 -1\n",
      "   1  1 -1 -1 -1 -1 -1  1  1 -1 -1 -1 -1 -1  1]]\n",
      "\n",
      "Y =  [[-1  1 -1  1 -1  1  1  1  1  1 -1  1  1 -1  1]\n",
      " [ 1  1 -1  1 -1  1  1  1 -1  1 -1  1  1  1 -1]\n",
      " [ 1 -1  1  1 -1  1  1  1  1  1 -1  1  1 -1  1]]\n",
      "\n",
      "\n",
      "Dimensions of X:  (3, 63)\n",
      "Dimensions of Y:  (3, 15)\n"
     ]
    }
   ],
   "source": [
    "X = np.array([[-1, -1, 1, 1, 1, -1, -1, \n",
    "               -1, 1, -1, -1, -1, 1, -1, \n",
    "               1, -1, -1, -1, -1, -1, 1, \n",
    "               1, -1, -1, -1, -1, -1, 1, \n",
    "               1, -1, -1, -1, -1, -1, 1, \n",
    "               1, 1, 1, 1, 1, 1, 1, \n",
    "               1, -1, -1, -1, -1, -1, 1, \n",
    "               1, -1, -1, -1, -1, -1, 1, \n",
    "               1, -1, -1, -1, -1, -1, 1],\n",
    "              [1,1,1,1,1,-1,-1,\n",
    "               1,-1,-1,-1,-1,1,-1,\n",
    "               1,-1,-1,-1,-1,-1,1,\n",
    "               1,-1,-1,-1,-1,1,-1,\n",
    "               1,1,1,1,1,-1,-1,\n",
    "               1,-1,-1,-1,-1,1,-1,\n",
    "               1,-1,-1,-1,-1,-1,1,\n",
    "               1,-1,-1,-1,-1,1,-1,\n",
    "               1,1,1,1,1,-1,-1],\n",
    "               [1,-1,-1,-1,-1,-1,1,\n",
    "                1,-1,-1,-1,-1,-1,1,\n",
    "                1,-1,-1,-1,-1,-1,1,\n",
    "                1,-1,-1,-1,-1,-1,1,\n",
    "                1,1,1,1,1,1,1,\n",
    "                1,-1,-1,-1,-1,-1,1,\n",
    "                1,-1,-1,-1,-1,-1,1,\n",
    "                1,-1,-1,-1,-1,-1,1,\n",
    "                1,-1,-1,-1,-1,-1,1,]])\n",
    "\n",
    "\n",
    "Y = np.array([[-1, 1, -1,\n",
    "               1, -1, 1,\n",
    "               1, 1, 1,\n",
    "               1, -1, 1,\n",
    "               1, -1, 1],\n",
    "               [1,1,-1,\n",
    "                1,-1,1,\n",
    "                1,1,-1,\n",
    "                1,-1,1,\n",
    "                1,1,-1],\n",
    "                [1,-1,1,\n",
    "                 1,-1,1,\n",
    "                 1,1,1,\n",
    "                 1,-1,1,\n",
    "                 1,-1,1,]])\n",
    "\n",
    "\n",
    "print(\"X = \", X)\n",
    "print(\"\\nY = \", Y)\n",
    "print(\"\\n\\nDimensions of X: \", X.shape)\n",
    "print(\"Dimensions of Y: \", Y.shape)"
   ]
  },
  {
   "cell_type": "markdown",
   "metadata": {},
   "source": [
    "Create visualize function "
   ]
  },
  {
   "cell_type": "code",
   "execution_count": 3,
   "metadata": {},
   "outputs": [],
   "source": [
    "def visualize(matrix, a, b, c):\n",
    "    # Reshape data menjadi citra biner 9x7\n",
    "    X = matrix.reshape(a, b, c)\n",
    "    # Plot setiap elemen data sebagai citra biner\n",
    "    plt.figure(figsize=(5, 3))\n",
    "    for i in range(3):\n",
    "        plt.subplot(1, 3, i + 1)\n",
    "        plt.imshow(X[i], cmap='binary')\n",
    "        plt.title(\"Data {}\".format(i + 1))"
   ]
  },
  {
   "cell_type": "code",
   "execution_count": 4,
   "metadata": {},
   "outputs": [
    {
     "data": {
      "image/png": "[encoded data removed]",
      "text/plain": [
       "<Figure size 500x300 with 3 Axes>"
      ]
     },
     "metadata": {},
     "output_type": "display_data"
    }
   ],
   "source": [
    "visualize(X, 3, 9, 7)"
   ]
  },
  {
   "cell_type": "markdown",
   "metadata": {},
   "source": [
    "Hitung nilai *weight* dengan cara mengalikan transpose matrix input dengan matrix target.\n",
    "\n",
    "<img src=\"./index.png\" alt=\"image\" width=\"200\" height=\"100\">"
   ]
  },
  {
   "cell_type": "code",
   "execution_count": 5,
   "metadata": {},
   "outputs": [
    {
     "name": "stdout",
     "output_type": "stream",
     "text": [
      "W =  [[ 3 -1  1  1 -1  1  1  1 -1  1 -1  1  1  1 -1]\n",
      " [ 1  1 -1 -1  1 -1 -1 -1 -3 -1  1 -1 -1  3 -3]\n",
      " [-1  3 -3  1 -1  1  1  1 -1  1 -1  1  1  1 -1]\n",
      " [-1  3 -3  1 -1  1  1  1 -1  1 -1  1  1  1 -1]\n",
      " [-1  3 -3  1 -1  1  1  1 -1  1 -1  1  1  1 -1]\n",
      " [-1 -1  1 -3  3 -3 -3 -3 -1 -3  3 -3 -3  1 -1]\n",
      " [ 1 -3  3 -1  1 -1 -1 -1  1 -1  1 -1 -1 -1  1]\n",
      " [ 3 -1  1  1 -1  1  1  1 -1  1 -1  1  1  1 -1]\n",
      " [-3  1 -1 -1  1 -1 -1 -1  1 -1  1 -1 -1 -1  1]\n",
      " [-1 -1  1 -3  3 -3 -3 -3 -1 -3  3 -3 -3  1 -1]\n",
      " [-1 -1  1 -3  3 -3 -3 -3 -1 -3  3 -3 -3  1 -1]\n",
      " [-1 -1  1 -3  3 -3 -3 -3 -1 -3  3 -3 -3  1 -1]\n",
      " [-1  3 -3  1 -1  1  1  1 -1  1 -1  1  1  1 -1]\n",
      " [ 1 -3  3 -1  1 -1 -1 -1  1 -1  1 -1 -1 -1  1]\n",
      " [ 1  1 -1  3 -3  3  3  3  1  3 -3  3  3 -1  1]\n",
      " [-1 -1  1 -3  3 -3 -3 -3 -1 -3  3 -3 -3  1 -1]\n",
      " [-1 -1  1 -3  3 -3 -3 -3 -1 -3  3 -3 -3  1 -1]\n",
      " [-1 -1  1 -3  3 -3 -3 -3 -1 -3  3 -3 -3  1 -1]\n",
      " [-1 -1  1 -3  3 -3 -3 -3 -1 -3  3 -3 -3  1 -1]\n",
      " [-1 -1  1 -3  3 -3 -3 -3 -1 -3  3 -3 -3  1 -1]\n",
      " [ 1  1 -1  3 -3  3  3  3  1  3 -3  3  3 -1  1]\n",
      " [ 1  1 -1  3 -3  3  3  3  1  3 -3  3  3 -1  1]\n",
      " [-1 -1  1 -3  3 -3 -3 -3 -1 -3  3 -3 -3  1 -1]\n",
      " [-1 -1  1 -3  3 -3 -3 -3 -1 -3  3 -3 -3  1 -1]\n",
      " [-1 -1  1 -3  3 -3 -3 -3 -1 -3  3 -3 -3  1 -1]\n",
      " [-1 -1  1 -3  3 -3 -3 -3 -1 -3  3 -3 -3  1 -1]\n",
      " [ 1  1 -1 -1  1 -1 -1 -1 -3 -1  1 -1 -1  3 -3]\n",
      " [-1 -1  1  1 -1  1  1  1  3  1 -1  1  1 -3  3]\n",
      " [ 1  1 -1  3 -3  3  3  3  1  3 -3  3  3 -1  1]\n",
      " [ 3 -1  1  1 -1  1  1  1 -1  1 -1  1  1  1 -1]\n",
      " [ 3 -1  1  1 -1  1  1  1 -1  1 -1  1  1  1 -1]\n",
      " [ 3 -1  1  1 -1  1  1  1 -1  1 -1  1  1  1 -1]\n",
      " [ 3 -1  1  1 -1  1  1  1 -1  1 -1  1  1  1 -1]\n",
      " [ 1 -3  3 -1  1 -1 -1 -1  1 -1  1 -1 -1 -1  1]\n",
      " [-1 -1  1  1 -1  1  1  1  3  1 -1  1  1 -3  3]\n",
      " [ 1  1 -1  3 -3  3  3  3  1  3 -3  3  3 -1  1]\n",
      " [-3  1 -1 -1  1 -1 -1 -1  1 -1  1 -1 -1 -1  1]\n",
      " [-3  1 -1 -1  1 -1 -1 -1  1 -1  1 -1 -1 -1  1]\n",
      " [-3  1 -1 -1  1 -1 -1 -1  1 -1  1 -1 -1 -1  1]\n",
      " [-3  1 -1 -1  1 -1 -1 -1  1 -1  1 -1 -1 -1  1]\n",
      " [-1  3 -3  1 -1  1  1  1 -1  1 -1  1  1  1 -1]\n",
      " [-1 -1  1  1 -1  1  1  1  3  1 -1  1  1 -3  3]\n",
      " [ 1  1 -1  3 -3  3  3  3  1  3 -3  3  3 -1  1]\n",
      " [-1 -1  1 -3  3 -3 -3 -3 -1 -3  3 -3 -3  1 -1]\n",
      " [-1 -1  1 -3  3 -3 -3 -3 -1 -3  3 -3 -3  1 -1]\n",
      " [-1 -1  1 -3  3 -3 -3 -3 -1 -3  3 -3 -3  1 -1]\n",
      " [-1 -1  1 -3  3 -3 -3 -3 -1 -3  3 -3 -3  1 -1]\n",
      " [-1 -1  1 -3  3 -3 -3 -3 -1 -3  3 -3 -3  1 -1]\n",
      " [ 1  1 -1  3 -3  3  3  3  1  3 -3  3  3 -1  1]\n",
      " [ 1  1 -1  3 -3  3  3  3  1  3 -3  3  3 -1  1]\n",
      " [-1 -1  1 -3  3 -3 -3 -3 -1 -3  3 -3 -3  1 -1]\n",
      " [-1 -1  1 -3  3 -3 -3 -3 -1 -3  3 -3 -3  1 -1]\n",
      " [-1 -1  1 -3  3 -3 -3 -3 -1 -3  3 -3 -3  1 -1]\n",
      " [-1 -1  1 -3  3 -3 -3 -3 -1 -3  3 -3 -3  1 -1]\n",
      " [ 1  1 -1 -1  1 -1 -1 -1 -3 -1  1 -1 -1  3 -3]\n",
      " [-1 -1  1  1 -1  1  1  1  3  1 -1  1  1 -3  3]\n",
      " [ 1  1 -1  3 -3  3  3  3  1  3 -3  3  3 -1  1]\n",
      " [ 1  1 -1 -1  1 -1 -1 -1 -3 -1  1 -1 -1  3 -3]\n",
      " [ 1  1 -1 -1  1 -1 -1 -1 -3 -1  1 -1 -1  3 -3]\n",
      " [ 1  1 -1 -1  1 -1 -1 -1 -3 -1  1 -1 -1  3 -3]\n",
      " [ 1  1 -1 -1  1 -1 -1 -1 -3 -1  1 -1 -1  3 -3]\n",
      " [-1 -1  1 -3  3 -3 -3 -3 -1 -3  3 -3 -3  1 -1]\n",
      " [-1 -1  1  1 -1  1  1  1  3  1 -1  1  1 -3  3]]\n",
      "\n",
      "Dimensions of Weight Matrix:  (63, 15)\n"
     ]
    }
   ],
   "source": [
    "def weightValue(X, Y):\n",
    "    return np.dot(X.T, Y)\n",
    "\n",
    "weight = weightValue(X, Y)\n",
    "print('W = ', weight, end = \"\")\n",
    "\n",
    "print(\"\\n\\nDimensions of Weight Matrix: \",weight.shape)"
   ]
  },
  {
   "cell_type": "markdown",
   "metadata": {},
   "source": [
    "Create Activation Function (Bipolar Activation Function)"
   ]
  },
  {
   "cell_type": "code",
   "execution_count": 6,
   "metadata": {},
   "outputs": [],
   "source": [
    "def ForwardBipolarActivation(matrix, weight):\n",
    "    matrix[matrix > 0] = 1\n",
    "    matrix[matrix <= 0] = -1\n",
    "    return np.array(matrix)\n",
    "\n",
    "def BackwardBipolarActivation(matrix, weight):\n",
    "    matrix[matrix >= 0] = 1\n",
    "    matrix[matrix < 0] = -1\n",
    "    return np.array(matrix)"
   ]
  },
  {
   "cell_type": "markdown",
   "metadata": {},
   "source": [
    "### **Forward Testing**\n",
    "\n",
    "----\n",
    "- We perform the following operation on all the Y (set B) matrices and verify if our result matches with the corresponding set A (X) matrices. \n",
    "\n",
    "    $\n",
    "        Y(i) * weight^T = X_i\n",
    "    $\n",
    "----"
   ]
  },
  {
   "cell_type": "code",
   "execution_count": 7,
   "metadata": {},
   "outputs": [],
   "source": [
    "def forward(Y, weight): \n",
    "  x = np.dot(Y, weight.T) \n",
    "  return ForwardBipolarActivation(x, weight)"
   ]
  },
  {
   "cell_type": "code",
   "execution_count": 8,
   "metadata": {},
   "outputs": [
    {
     "name": "stdout",
     "output_type": "stream",
     "text": [
      "\n",
      "weight * Y0 =  [ 1 -1  1  1  1 -1 -1  1 -1 -1 -1 -1  1 -1  1 -1 -1 -1 -1 -1  1  1 -1 -1\n",
      " -1 -1 -1  1  1  1  1  1  1 -1  1  1 -1 -1 -1 -1  1  1  1 -1 -1 -1 -1 -1\n",
      "  1  1 -1 -1 -1 -1 -1  1  1 -1 -1 -1 -1 -1  1]  = X0\n",
      "Mean Squared Error (MSE): 0.6984126984126984\n",
      "\n",
      "weight * Y1 =  [ 1  1  1  1  1 -1 -1  1 -1 -1 -1 -1  1 -1  1 -1 -1 -1 -1 -1  1  1 -1 -1\n",
      " -1 -1  1 -1  1  1  1  1  1 -1 -1  1 -1 -1 -1 -1  1 -1  1 -1 -1 -1 -1 -1\n",
      "  1  1 -1 -1 -1 -1  1 -1  1  1  1  1  1 -1 -1]  = X1\n",
      "Mean Squared Error (MSE): 0.0\n",
      "\n",
      "weight * Y2 =  [ 1 -1 -1 -1 -1 -1  1  1 -1 -1 -1 -1 -1  1  1 -1 -1 -1 -1 -1  1  1 -1 -1\n",
      " -1 -1 -1  1  1  1  1  1  1  1  1  1 -1 -1 -1 -1 -1  1  1 -1 -1 -1 -1 -1\n",
      "  1  1 -1 -1 -1 -1 -1  1  1 -1 -1 -1 -1 -1  1]  = X2\n",
      "Mean Squared Error (MSE): 0.0\n"
     ]
    },
    {
     "data": {
      "image/png": "[encoded data removed]",
      "text/plain": [
       "<Figure size 500x300 with 3 Axes>"
      ]
     },
     "metadata": {},
     "output_type": "display_data"
    }
   ],
   "source": [
    "m, n = X.shape\n",
    "forward_input = forward(Y, weight)\n",
    "\n",
    "for i in range (m):\n",
    "    print(\"\\nweight * Y{} = \".format(i), forward_input[i])\n",
    "    mse = ((X[i] - forward_input[i]) ** 2).mean()\n",
    "\n",
    "    print(\"Mean Squared Error (MSE):\", mse)\n",
    "\n",
    "visualize(forward_input, 3, 9, 7)"
   ]
  },
  {
   "cell_type": "markdown",
   "metadata": {},
   "source": [
    "----\n",
    "### **Backward Testing**\n",
    "- We perform the following operation on all the X (set A) matrices and verify if our result matches with the corresponding set B (Y) matrices. \n",
    "\n",
    "    $\n",
    "        weight^T * X_i = Y_i\n",
    "    $\n",
    "----"
   ]
  },
  {
   "cell_type": "code",
   "execution_count": 9,
   "metadata": {},
   "outputs": [],
   "source": [
    "def backward(X, weight): \n",
    "  Y = np.dot(weight.T, X) \n",
    "  return BackwardBipolarActivation(Y, weight)"
   ]
  },
  {
   "cell_type": "code",
   "execution_count": 10,
   "metadata": {},
   "outputs": [
    {
     "name": "stdout",
     "output_type": "stream",
     "text": [
      "\n",
      "weight * X0 =  [-1  1 -1  1 -1  1  1  1  1  1 -1  1  1 -1  1]  = Y0\n",
      "Mean Squared Error (MSE): 0.0\n",
      "\n",
      "weight * X1 =  [ 1  1 -1  1 -1  1  1  1 -1  1 -1  1  1  1 -1]  = Y1\n",
      "Mean Squared Error (MSE): 0.0\n",
      "\n",
      "weight * X2 =  [ 1 -1  1  1 -1  1  1  1  1  1 -1  1  1 -1  1]  = Y2\n",
      "Mean Squared Error (MSE): 0.0\n"
     ]
    },
    {
     "data": {
      "image/png": "[encoded data removed]",
      "text/plain": [
       "<Figure size 500x300 with 3 Axes>"
      ]
     },
     "metadata": {},
     "output_type": "display_data"
    }
   ],
   "source": [
    "backward_output = []\n",
    "\n",
    "for i in range (m):\n",
    "    tmp = backward(X[i], weight)\n",
    "    print(\"\\nweight * X{} = \".format(i), tmp, \" = Y{}\".format(i))\n",
    "    backward_output.append(tmp)\n",
    "\n",
    "    mse = ((Y[i] - tmp) ** 2).mean()\n",
    "\n",
    "    print(\"Mean Squared Error (MSE):\", mse)\n",
    "\n",
    "# change type to numpy array\n",
    "list_of_lists = np.array([arr.tolist() for arr in backward_output])\n",
    "\n",
    "visualize(list_of_lists,3,5,3)"
   ]
  },
  {
   "cell_type": "code",
   "execution_count": null,
   "metadata": {},
   "outputs": [],
   "source": []
  }
 ],
 "metadata": {
  "kernelspec": {
   "display_name": ".venv",
   "language": "python",
   "name": "python3"
  },
  "language_info": {
   "codemirror_mode": {
    "name": "ipython",
    "version": 3
   },
   "file_extension": ".py",
   "mimetype": "text/x-python",
   "name": "python",
   "nbconvert_exporter": "python",
   "pygments_lexer": "ipython3",
   "version": "3.10.12"
  },
  "orig_nbformat": 4
 },
 "nbformat": 4,
 "nbformat_minor": 2
}
