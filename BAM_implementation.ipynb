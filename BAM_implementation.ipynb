{
 "cells": [
  {
   "cell_type": "code",
   "execution_count": 1,
   "metadata": {},
   "outputs": [],
   "source": [
    "import numpy as np\n",
    "import random\n",
    "import math\n",
    "import matplotlib.pyplot as plt"
   ]
  },
  {
   "cell_type": "code",
   "execution_count": 2,
   "metadata": {},
   "outputs": [
    {
     "name": "stdout",
     "output_type": "stream",
     "text": [
      "X =  [[-1 -1  1  1  1 -1 -1 -1  1 -1 -1 -1  1 -1  1 -1 -1 -1 -1 -1  1  1 -1 -1\n",
      "  -1 -1 -1  1  1 -1 -1 -1 -1 -1  1  1  1  1  1  1  1  1  1 -1 -1 -1 -1 -1\n",
      "   1  1 -1 -1 -1 -1 -1  1  1 -1 -1 -1 -1 -1  1]\n",
      " [ 1  1  1  1  1 -1 -1  1 -1 -1 -1 -1  1 -1  1 -1 -1 -1 -1 -1  1  1 -1 -1\n",
      "  -1 -1  1 -1  1  1  1  1  1 -1 -1  1 -1 -1 -1 -1  1 -1  1 -1 -1 -1 -1 -1\n",
      "   1  1 -1 -1 -1 -1  1 -1  1  1  1  1  1 -1 -1]\n",
      " [ 1 -1 -1 -1 -1 -1  1  1 -1 -1 -1 -1 -1  1  1 -1 -1 -1 -1 -1  1  1 -1 -1\n",
      "  -1 -1 -1  1  1  1  1  1  1  1  1  1 -1 -1 -1 -1 -1  1  1 -1 -1 -1 -1 -1\n",
      "   1  1 -1 -1 -1 -1 -1  1  1 -1 -1 -1 -1 -1  1]]\n",
      "\n",
      "Y =  [[-1  1 -1  1 -1  1  1  1  1  1 -1  1  1 -1  1]\n",
      " [ 1  1 -1  1 -1  1  1  1 -1  1 -1  1  1  1 -1]\n",
      " [ 1 -1  1  1 -1  1  1  1  1  1 -1  1  1 -1  1]]\n",
      "\n",
      "\n",
      "Dimensions of X:  (3, 63)\n",
      "\n",
      "Dimensions of Y:  (3, 15)\n"
     ]
    }
   ],
   "source": [
    "X = np.array([[-1, -1, 1, 1, 1, -1, -1, \n",
    "               -1, 1, -1, -1, -1, 1, -1, \n",
    "               1, -1, -1, -1, -1, -1, 1, \n",
    "               1, -1, -1, -1, -1, -1, 1, \n",
    "               1, -1, -1, -1, -1, -1, 1, \n",
    "               1, 1, 1, 1, 1, 1, 1, \n",
    "               1, -1, -1, -1, -1, -1, 1, \n",
    "               1, -1, -1, -1, -1, -1, 1, \n",
    "               1, -1, -1, -1, -1, -1, 1],\n",
    "              [1,1,1,1,1,-1,-1,\n",
    "               1,-1,-1,-1,-1,1,-1,\n",
    "               1,-1,-1,-1,-1,-1,1,\n",
    "               1,-1,-1,-1,-1,1,-1,\n",
    "               1,1,1,1,1,-1,-1,\n",
    "               1,-1,-1,-1,-1,1,-1,\n",
    "               1,-1,-1,-1,-1,-1,1,\n",
    "               1,-1,-1,-1,-1,1,-1,\n",
    "               1,1,1,1,1,-1,-1],\n",
    "               [1,-1,-1,-1,-1,-1,1,\n",
    "                1,-1,-1,-1,-1,-1,1,\n",
    "                1,-1,-1,-1,-1,-1,1,\n",
    "                1,-1,-1,-1,-1,-1,1,\n",
    "                1,1,1,1,1,1,1,\n",
    "                1,-1,-1,-1,-1,-1,1,\n",
    "                1,-1,-1,-1,-1,-1,1,\n",
    "                1,-1,-1,-1,-1,-1,1,\n",
    "                1,-1,-1,-1,-1,-1,1,]])\n",
    "\n",
    "\n",
    "Y = np.array([[-1, 1, -1,\n",
    "               1, -1, 1,\n",
    "               1, 1, 1,\n",
    "               1, -1, 1,\n",
    "               1, -1, 1],\n",
    "               [1,1,-1,\n",
    "                1,-1,1,\n",
    "                1,1,-1,\n",
    "                1,-1,1,\n",
    "                1,1,-1],\n",
    "                [1,-1,1,\n",
    "                 1,-1,1,\n",
    "                 1,1,1,\n",
    "                 1,-1,1,\n",
    "                 1,-1,1,]])\n",
    "\n",
    "\n",
    "print(\"X = \", X)\n",
    "print(\"\\nY = \", Y)\n",
    "print(\"\\n\\nDimensions of X: \", X.shape)\n",
    "print(\"\\nDimensions of Y: \", Y.shape)"
   ]
  },
  {
   "cell_type": "code",
   "execution_count": 3,
   "metadata": {},
   "outputs": [],
   "source": [
    "def visualize(matrix, a, b, c):\n",
    "    # Reshape data menjadi citra biner 9x7\n",
    "    X = matrix.reshape(a, b, c)\n",
    "    # Plot setiap elemen data sebagai citra biner\n",
    "    plt.figure(figsize=(10, 3))\n",
    "    for i in range(3):\n",
    "        plt.subplot(1, 3, i + 1)\n",
    "        plt.imshow(X[i], cmap='binary')\n",
    "        plt.title(f'Data {i + 1}')"
   ]
  },
  {
   "cell_type": "code",
   "execution_count": 4,
   "metadata": {},
   "outputs": [
    {
     "data": {
      "image/png": "[encoded data removed]",
      "text/plain": [
       "<Figure size 1000x300 with 3 Axes>"
      ]
     },
     "metadata": {},
     "output_type": "display_data"
    }
   ],
   "source": [
    "visualize(X, 3, 9, 7)\n",
    "\n",
    "m, n = X.shape"
   ]
  },
  {
   "cell_type": "code",
   "execution_count": 5,
   "metadata": {},
   "outputs": [
    {
     "name": "stdout",
     "output_type": "stream",
     "text": [
      "W =  [[ 3 -1  1  1 -1  1  1  1 -1  1 -1  1  1  1 -1]\n",
      " [ 1  1 -1 -1  1 -1 -1 -1 -3 -1  1 -1 -1  3 -3]\n",
      " [-1  3 -3  1 -1  1  1  1 -1  1 -1  1  1  1 -1]\n",
      " [-1  3 -3  1 -1  1  1  1 -1  1 -1  1  1  1 -1]\n",
      " [-1  3 -3  1 -1  1  1  1 -1  1 -1  1  1  1 -1]\n",
      " [-1 -1  1 -3  3 -3 -3 -3 -1 -3  3 -3 -3  1 -1]\n",
      " [ 1 -3  3 -1  1 -1 -1 -1  1 -1  1 -1 -1 -1  1]\n",
      " [ 3 -1  1  1 -1  1  1  1 -1  1 -1  1  1  1 -1]\n",
      " [-3  1 -1 -1  1 -1 -1 -1  1 -1  1 -1 -1 -1  1]\n",
      " [-1 -1  1 -3  3 -3 -3 -3 -1 -3  3 -3 -3  1 -1]\n",
      " [-1 -1  1 -3  3 -3 -3 -3 -1 -3  3 -3 -3  1 -1]\n",
      " [-1 -1  1 -3  3 -3 -3 -3 -1 -3  3 -3 -3  1 -1]\n",
      " [-1  3 -3  1 -1  1  1  1 -1  1 -1  1  1  1 -1]\n",
      " [ 1 -3  3 -1  1 -1 -1 -1  1 -1  1 -1 -1 -1  1]\n",
      " [ 1  1 -1  3 -3  3  3  3  1  3 -3  3  3 -1  1]\n",
      " [-1 -1  1 -3  3 -3 -3 -3 -1 -3  3 -3 -3  1 -1]\n",
      " [-1 -1  1 -3  3 -3 -3 -3 -1 -3  3 -3 -3  1 -1]\n",
      " [-1 -1  1 -3  3 -3 -3 -3 -1 -3  3 -3 -3  1 -1]\n",
      " [-1 -1  1 -3  3 -3 -3 -3 -1 -3  3 -3 -3  1 -1]\n",
      " [-1 -1  1 -3  3 -3 -3 -3 -1 -3  3 -3 -3  1 -1]\n",
      " [ 1  1 -1  3 -3  3  3  3  1  3 -3  3  3 -1  1]\n",
      " [ 1  1 -1  3 -3  3  3  3  1  3 -3  3  3 -1  1]\n",
      " [-1 -1  1 -3  3 -3 -3 -3 -1 -3  3 -3 -3  1 -1]\n",
      " [-1 -1  1 -3  3 -3 -3 -3 -1 -3  3 -3 -3  1 -1]\n",
      " [-1 -1  1 -3  3 -3 -3 -3 -1 -3  3 -3 -3  1 -1]\n",
      " [-1 -1  1 -3  3 -3 -3 -3 -1 -3  3 -3 -3  1 -1]\n",
      " [ 1  1 -1 -1  1 -1 -1 -1 -3 -1  1 -1 -1  3 -3]\n",
      " [-1 -1  1  1 -1  1  1  1  3  1 -1  1  1 -3  3]\n",
      " [ 1  1 -1  3 -3  3  3  3  1  3 -3  3  3 -1  1]\n",
      " [ 3 -1  1  1 -1  1  1  1 -1  1 -1  1  1  1 -1]\n",
      " [ 3 -1  1  1 -1  1  1  1 -1  1 -1  1  1  1 -1]\n",
      " [ 3 -1  1  1 -1  1  1  1 -1  1 -1  1  1  1 -1]\n",
      " [ 3 -1  1  1 -1  1  1  1 -1  1 -1  1  1  1 -1]\n",
      " [ 1 -3  3 -1  1 -1 -1 -1  1 -1  1 -1 -1 -1  1]\n",
      " [-1 -1  1  1 -1  1  1  1  3  1 -1  1  1 -3  3]\n",
      " [ 1  1 -1  3 -3  3  3  3  1  3 -3  3  3 -1  1]\n",
      " [-3  1 -1 -1  1 -1 -1 -1  1 -1  1 -1 -1 -1  1]\n",
      " [-3  1 -1 -1  1 -1 -1 -1  1 -1  1 -1 -1 -1  1]\n",
      " [-3  1 -1 -1  1 -1 -1 -1  1 -1  1 -1 -1 -1  1]\n",
      " [-3  1 -1 -1  1 -1 -1 -1  1 -1  1 -1 -1 -1  1]\n",
      " [-1  3 -3  1 -1  1  1  1 -1  1 -1  1  1  1 -1]\n",
      " [-1 -1  1  1 -1  1  1  1  3  1 -1  1  1 -3  3]\n",
      " [ 1  1 -1  3 -3  3  3  3  1  3 -3  3  3 -1  1]\n",
      " [-1 -1  1 -3  3 -3 -3 -3 -1 -3  3 -3 -3  1 -1]\n",
      " [-1 -1  1 -3  3 -3 -3 -3 -1 -3  3 -3 -3  1 -1]\n",
      " [-1 -1  1 -3  3 -3 -3 -3 -1 -3  3 -3 -3  1 -1]\n",
      " [-1 -1  1 -3  3 -3 -3 -3 -1 -3  3 -3 -3  1 -1]\n",
      " [-1 -1  1 -3  3 -3 -3 -3 -1 -3  3 -3 -3  1 -1]\n",
      " [ 1  1 -1  3 -3  3  3  3  1  3 -3  3  3 -1  1]\n",
      " [ 1  1 -1  3 -3  3  3  3  1  3 -3  3  3 -1  1]\n",
      " [-1 -1  1 -3  3 -3 -3 -3 -1 -3  3 -3 -3  1 -1]\n",
      " [-1 -1  1 -3  3 -3 -3 -3 -1 -3  3 -3 -3  1 -1]\n",
      " [-1 -1  1 -3  3 -3 -3 -3 -1 -3  3 -3 -3  1 -1]\n",
      " [-1 -1  1 -3  3 -3 -3 -3 -1 -3  3 -3 -3  1 -1]\n",
      " [ 1  1 -1 -1  1 -1 -1 -1 -3 -1  1 -1 -1  3 -3]\n",
      " [-1 -1  1  1 -1  1  1  1  3  1 -1  1  1 -3  3]\n",
      " [ 1  1 -1  3 -3  3  3  3  1  3 -3  3  3 -1  1]\n",
      " [ 1  1 -1 -1  1 -1 -1 -1 -3 -1  1 -1 -1  3 -3]\n",
      " [ 1  1 -1 -1  1 -1 -1 -1 -3 -1  1 -1 -1  3 -3]\n",
      " [ 1  1 -1 -1  1 -1 -1 -1 -3 -1  1 -1 -1  3 -3]\n",
      " [ 1  1 -1 -1  1 -1 -1 -1 -3 -1  1 -1 -1  3 -3]\n",
      " [-1 -1  1 -3  3 -3 -3 -3 -1 -3  3 -3 -3  1 -1]\n",
      " [-1 -1  1  1 -1  1  1  1  3  1 -1  1  1 -3  3]]\n",
      "\n",
      "Dimensions of Weight Matrix:  (63, 15)\n"
     ]
    }
   ],
   "source": [
    "def calcWeight(X, Y):\n",
    "    return np.dot(X.T, Y)\n",
    "\n",
    "weight = calcWeight(X, Y)\n",
    "print('W = ', weight, end = \"\")\n",
    "\n",
    "print(\"\\n\\nDimensions of Weight Matrix: \",weight.shape)"
   ]
  },
  {
   "cell_type": "code",
   "execution_count": 6,
   "metadata": {},
   "outputs": [],
   "source": [
    "def ForwardBipolarActivation(matrix, weight):\n",
    "    matrix[matrix > 0] = 1\n",
    "    matrix[matrix <= 0] = -1\n",
    "    return np.array(matrix)\n",
    "\n",
    "def BackwardBipolarActivation(matrix, weight):\n",
    "    matrix[matrix >= 0] = 1\n",
    "    matrix[matrix < 0] = -1\n",
    "    return np.array(matrix)"
   ]
  },
  {
   "cell_type": "markdown",
   "metadata": {},
   "source": [
    "### Forward Testing"
   ]
  },
  {
   "cell_type": "code",
   "execution_count": 7,
   "metadata": {},
   "outputs": [],
   "source": [
    "def forward(Y, weight): \n",
    "  x = np.dot(Y, weight.T) \n",
    "  return ForwardBipolarActivation(x, weight)"
   ]
  },
  {
   "cell_type": "code",
   "execution_count": 8,
   "metadata": {},
   "outputs": [
    {
     "name": "stdout",
     "output_type": "stream",
     "text": [
      "\n",
      "weight * Y0 =  [ 1 -1  1  1  1 -1 -1  1 -1 -1 -1 -1  1 -1  1 -1 -1 -1 -1 -1  1  1 -1 -1\n",
      " -1 -1 -1  1  1  1  1  1  1 -1  1  1 -1 -1 -1 -1  1  1  1 -1 -1 -1 -1 -1\n",
      "  1  1 -1 -1 -1 -1 -1  1  1 -1 -1 -1 -1 -1  1]  = X0\n",
      "\n",
      "weight * Y1 =  [ 1  1  1  1  1 -1 -1  1 -1 -1 -1 -1  1 -1  1 -1 -1 -1 -1 -1  1  1 -1 -1\n",
      " -1 -1  1 -1  1  1  1  1  1 -1 -1  1 -1 -1 -1 -1  1 -1  1 -1 -1 -1 -1 -1\n",
      "  1  1 -1 -1 -1 -1  1 -1  1  1  1  1  1 -1 -1]  = X1\n",
      "\n",
      "weight * Y2 =  [ 1 -1 -1 -1 -1 -1  1  1 -1 -1 -1 -1 -1  1  1 -1 -1 -1 -1 -1  1  1 -1 -1\n",
      " -1 -1 -1  1  1  1  1  1  1  1  1  1 -1 -1 -1 -1 -1  1  1 -1 -1 -1 -1 -1\n",
      "  1  1 -1 -1 -1 -1 -1  1  1 -1 -1 -1 -1 -1  1]  = X2\n",
      "<class 'numpy.ndarray'>\n"
     ]
    },
    {
     "data": {
      "image/png": "[encoded data removed]",
      "text/plain": [
       "<Figure size 1000x300 with 3 Axes>"
      ]
     },
     "metadata": {},
     "output_type": "display_data"
    }
   ],
   "source": [
    "forward_input = forward(Y, weight)\n",
    "\n",
    "for i in range (m):\n",
    "    print(\"\\nweight * Y{} = \".format(i), forward_input[i], \" = X{}\".format(i))\n",
    "print(type(forward_input))\n",
    "visualize(forward_input, 3, 9, 7)"
   ]
  },
  {
   "cell_type": "code",
   "execution_count": 9,
   "metadata": {},
   "outputs": [],
   "source": [
    "def backward(X, weight): \n",
    "  Y = np.dot(weight.T, X) \n",
    "  return BackwardBipolarActivation(Y, weight)"
   ]
  },
  {
   "cell_type": "code",
   "execution_count": 11,
   "metadata": {},
   "outputs": [
    {
     "name": "stdout",
     "output_type": "stream",
     "text": [
      "\n",
      "weight * X0 =  [-1  1 -1  1 -1  1  1  1  1  1 -1  1  1 -1  1]  = Y0\n",
      "\n",
      "weight * X1 =  [ 1  1 -1  1 -1  1  1  1 -1  1 -1  1  1  1 -1]  = Y1\n",
      "\n",
      "weight * X2 =  [ 1 -1  1  1 -1  1  1  1  1  1 -1  1  1 -1  1]  = Y2\n"
     ]
    },
    {
     "data": {
      "image/png": "[encoded data removed]",
      "text/plain": [
       "<Figure size 1000x300 with 3 Axes>"
      ]
     },
     "metadata": {},
     "output_type": "display_data"
    }
   ],
   "source": [
    "backward_output = []\n",
    "\n",
    "for i in range (m):\n",
    "    tmp = backward(X[i], weight)\n",
    "    print(\"\\nweight * X{} = \".format(i), tmp, \" = Y{}\".format(i))\n",
    "    backward_output.append(tmp)\n",
    "\n",
    "# change type to numpy array\n",
    "list_of_lists = np.array([arr.tolist() for arr in backward_output])\n",
    "\n",
    "visualize(list_of_lists,3,5,3)"
   ]
  },
  {
   "cell_type": "code",
   "execution_count": null,
   "metadata": {},
   "outputs": [],
   "source": []
  }
 ],
 "metadata": {
  "kernelspec": {
   "display_name": ".venv",
   "language": "python",
   "name": "python3"
  },
  "language_info": {
   "codemirror_mode": {
    "name": "ipython",
    "version": 3
   },
   "file_extension": ".py",
   "mimetype": "text/x-python",
   "name": "python",
   "nbconvert_exporter": "python",
   "pygments_lexer": "ipython3",
   "version": "3.10.12"
  },
  "orig_nbformat": 4
 },
 "nbformat": 4,
 "nbformat_minor": 2
}
